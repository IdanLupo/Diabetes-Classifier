{
 "cells": [
  {
   "cell_type": "code",
   "execution_count": null,
   "metadata": {
    "scrolled": true
   },
   "outputs": [],
   "source": [
    "import pandas as pd\n",
    "from pathlib import Path\n",
    "data_dir = Path(\"datasets\")"
   ]
  },
  {
   "cell_type": "code",
   "execution_count": null,
   "metadata": {},
   "outputs": [],
   "source": [
    "# Big mart sales: predict Item_Outlet_Sales\n",
    "filepath = data_dir / 'big mart sales' / 'data.csv'\n",
    "big_mart_sales = pd.read_csv(filepath)"
   ]
  },
  {
   "cell_type": "code",
   "execution_count": null,
   "metadata": {},
   "outputs": [],
   "source": [
    "# Adult: predict >50K\n",
    "filepath = data_dir / 'adult' / 'data.csv'\n",
    "columns = ['age', 'workclass', 'fnlwgt', 'education', 'education-num',\n",
    " 'marital-status',  'occupation', 'relationship', 'race',\n",
    " 'sex', 'capital-gain', 'capital-loss', 'hours-per-week',\n",
    " 'native_country', 'salary']\n",
    "adult = pd.read_csv(filepath, na_values=[\" ?\"], names=columns, header=0)\n",
    "adult = adult.salary.str.contains('>50K').astype(int)"
   ]
  },
  {
   "cell_type": "code",
   "execution_count": null,
   "metadata": {},
   "outputs": [],
   "source": [
    "# Default of credit card clients: predict DEFAULT\n",
    "filepath = data_dir / 'default' / 'default of credit card clients.csv'\n",
    "default_data = pd.read_csv(filepath)"
   ]
  },
  {
   "cell_type": "code",
   "execution_count": null,
   "metadata": {},
   "outputs": [],
   "source": [
    "# Apps ratings: predict Rating\n",
    "filepath = data_dir / 'apps ratings' / 'apps ratings.csv'\n",
    "apps_data = pd.read_csv(filepath, parse_dates=['Last Updated'])"
   ]
  },
  {
   "cell_type": "code",
   "execution_count": null,
   "metadata": {},
   "outputs": [],
   "source": [
    "# Online news popularity: predict shares\n",
    "filepath = data_dir / 'online news popularity' / 'OnlineNewsPopularity.csv'\n",
    "online_news = pd.read_csv(filepath)"
   ]
  },
  {
   "cell_type": "code",
   "execution_count": null,
   "metadata": {},
   "outputs": [],
   "source": [
    "# HR promotions: predict is_promoted\n",
    "filepath = data_dir / 'HR analytics' / 'promotions.csv'\n",
    "promotions = pd.read_csv(filepath)"
   ]
  },
  {
   "cell_type": "code",
   "execution_count": null,
   "metadata": {},
   "outputs": [],
   "source": [
    "# Food demand: predict num_orders\n",
    "filepath = data_dir / 'food demand' / 'demand.csv'\n",
    "demand = pd.read_csv(filepath)\n",
    "file_path = data_dir / 'food demand' / 'fulfilment_center_info.csv'\n",
    "fulfilment_center = pd.read_csv(file_path)\n",
    "file_path = data_dir / 'food demand' / 'meal_info.csv'\n",
    "meal_info = pd.read_csv(file_path)\n",
    "demand = demand.merge(fulfilment_center, on='center_id').merge(meal_info, on='meal_id')\n",
    "demand = demand.sort_values(['meal_id','center_id','week'])"
   ]
  },
  {
   "cell_type": "code",
   "execution_count": null,
   "metadata": {},
   "outputs": [],
   "source": [
    "# House prices: predict SalePrice\n",
    "filepath = data_dir / 'house prices' / 'train.csv'\n",
    "house_data = pd.read_csv(filepath)"
   ]
  },
  {
   "cell_type": "code",
   "execution_count": null,
   "metadata": {},
   "outputs": [],
   "source": [
    "# Boston airbnb: predict price\n",
    "filepath = data_dir / 'boston' / 'listings.csv'\n",
    "boston = pd.read_csv(filepath, parse_dates=['host_since'])"
   ]
  },
  {
   "cell_type": "code",
   "execution_count": null,
   "metadata": {},
   "outputs": [],
   "source": [
    "# Diabetes: predict Outcome\n",
    "file_path = data_dir / 'pima-indians-diabetes-database' / 'diabetes.csv'\n",
    "diabetes_data = pd.read_csv(file_path)"
   ]
  },
  {
   "cell_type": "code",
   "execution_count": null,
   "metadata": {},
   "outputs": [],
   "source": [
    "# Hotel bookings: predict is_canceled\n",
    "file_path = data_dir / 'hotel bookings' / 'hotel_bookings.csv'\n",
    "hotel_bookings = pd.read_csv(file_path)"
   ]
  },
  {
   "cell_type": "code",
   "execution_count": null,
   "metadata": {},
   "outputs": [],
   "source": [
    "# Heart: predict target\n",
    "file_path = data_dir / 'heart' / 'heart.csv'\n",
    "heart = pd.read_csv(file_path)"
   ]
  },
  {
   "cell_type": "code",
   "execution_count": null,
   "metadata": {},
   "outputs": [],
   "source": [
    "# Churn: predict churn\n",
    "file_path = data_dir / 'churn' / 'churn.csv'\n",
    "churn = pd.read_csv(file_path)"
   ]
  }
 ],
 "metadata": {
  "kernelspec": {
   "display_name": "Python 3",
   "language": "python",
   "name": "python3"
  },
  "language_info": {
   "codemirror_mode": {
    "name": "ipython",
    "version": 3
   },
   "file_extension": ".py",
   "mimetype": "text/x-python",
   "name": "python",
   "nbconvert_exporter": "python",
   "pygments_lexer": "ipython3",
   "version": "3.7.1"
  }
 },
 "nbformat": 4,
 "nbformat_minor": 2
}
